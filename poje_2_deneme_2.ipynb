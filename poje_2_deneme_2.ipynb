{
 "cells": [
  {
   "cell_type": "code",
   "execution_count": 1,
   "metadata": {},
   "outputs": [],
   "source": [
    "import numpy as np\n",
    "import pandas as pd\n",
    "import matplotlib.pyplot as plt\n",
    "import seaborn as sns\n",
    "\n",
    "from scipy.stats import randint as sp_randint\n",
    "from scipy.stats import uniform as sp_uniform\n",
    "\n",
    "from sklearn.model_selection import train_test_split\n",
    "from sklearn.model_selection import GridSearchCV, RandomizedSearchCV\n",
    "from sklearn.metrics import confusion_matrix, classification_report \n",
    "\n",
    "from sklearn import metrics\n",
    "from sklearn.naive_bayes import GaussianNB, BernoulliNB, MultinomialNB\n",
    "import lightgbm as lgbm\n",
    "\n",
    "from feature_selector import FeatureSelector\n",
    "pd.options.mode.chained_assignment = None"
   ]
  },
  {
   "cell_type": "code",
   "execution_count": 2,
   "metadata": {},
   "outputs": [
    {
     "name": "stdout",
     "output_type": "stream",
     "text": [
      "<class 'pandas.core.frame.DataFrame'>\n",
      "RangeIndex: 452 entries, 0 to 451\n",
      "Columns: 280 entries, 0 to 279\n",
      "dtypes: float64(125), int64(155)\n",
      "memory usage: 988.8 KB\n"
     ]
    }
   ],
   "source": [
    "url=\"arrhythmia.data\"\n",
    "#url=\"https://archive.ics.uci.edu/ml/machine-learning-databases/arrhythmia/arrhythmia.data\"\n",
    "#names=\"https://archive.ics.uci.edu/ml/machine-learning-databases/arrhythmia/arrhythmia.names\"\n",
    "cardio=pd.read_csv(url,header=None, na_values=\"?\")\n",
    "cardio.info()"
   ]
  },
  {
   "cell_type": "code",
   "execution_count": 3,
   "metadata": {},
   "outputs": [
    {
     "data": {
      "text/plain": [
       "280"
      ]
     },
     "execution_count": 3,
     "metadata": {},
     "output_type": "execute_result"
    }
   ],
   "source": [
    "base_col_names = '''Age Sex Height Weight\n",
    "        QRS_duration PR_interval\n",
    "        QT_interval T_interval P_interval\n",
    "        QRS_angle T_angle P_angle QRST_angle J_angle\n",
    "        Heart_rate\n",
    "        '''.split()\n",
    "\n",
    "sensors = '''d1 d2 d3 avr avl avf v1 v2 v3 v4 v5 v6'''.split()\n",
    "\n",
    "\n",
    "w_attrs = '''Q_width R_width S_width\n",
    "        R2_width S2_width Intrinsic_deflections\n",
    "        Exist_ragged_R Exist_diphasic_R\n",
    "        Exist_ragged_P Exist_diphasic_P\n",
    "        Exist_ragged_T Exist_diphasic_T\n",
    "        '''.split()\n",
    "\n",
    "\n",
    "a_attrs = '''JJ_amplitude Q_amplitude R_amplitude\n",
    "        S_amplitude R2_amplitude S2_amplitude\n",
    "        P_amplitude T_amplitude\n",
    "        QRSA QRSTA\n",
    "        '''.split()\n",
    "\n",
    "\n",
    "\n",
    "col_names = (base_col_names\n",
    "                + [sensor + '_' + w_attr\n",
    "                   for sensor in sensors for w_attr in w_attrs]\n",
    "                + [sensor + '_' + a_attr\n",
    "                   for sensor in sensors for a_attr in a_attrs]\n",
    "                + ['Class'])\n",
    "len(col_names)"
   ]
  },
  {
   "cell_type": "code",
   "execution_count": 4,
   "metadata": {},
   "outputs": [
    {
     "data": {
      "text/html": [
       "<div>\n",
       "<style scoped>\n",
       "    .dataframe tbody tr th:only-of-type {\n",
       "        vertical-align: middle;\n",
       "    }\n",
       "\n",
       "    .dataframe tbody tr th {\n",
       "        vertical-align: top;\n",
       "    }\n",
       "\n",
       "    .dataframe thead th {\n",
       "        text-align: right;\n",
       "    }\n",
       "</style>\n",
       "<table border=\"1\" class=\"dataframe\">\n",
       "  <thead>\n",
       "    <tr style=\"text-align: right;\">\n",
       "      <th></th>\n",
       "      <th>Age</th>\n",
       "      <th>Sex</th>\n",
       "      <th>Height</th>\n",
       "      <th>Weight</th>\n",
       "      <th>QRS_duration</th>\n",
       "      <th>PR_interval</th>\n",
       "      <th>QT_interval</th>\n",
       "      <th>T_interval</th>\n",
       "      <th>P_interval</th>\n",
       "      <th>QRS_angle</th>\n",
       "      <th>...</th>\n",
       "      <th>v6_Q_amplitude</th>\n",
       "      <th>v6_R_amplitude</th>\n",
       "      <th>v6_S_amplitude</th>\n",
       "      <th>v6_R2_amplitude</th>\n",
       "      <th>v6_S2_amplitude</th>\n",
       "      <th>v6_P_amplitude</th>\n",
       "      <th>v6_T_amplitude</th>\n",
       "      <th>v6_QRSA</th>\n",
       "      <th>v6_QRSTA</th>\n",
       "      <th>Class</th>\n",
       "    </tr>\n",
       "  </thead>\n",
       "  <tbody>\n",
       "    <tr>\n",
       "      <th>0</th>\n",
       "      <td>75</td>\n",
       "      <td>0</td>\n",
       "      <td>190</td>\n",
       "      <td>80</td>\n",
       "      <td>91</td>\n",
       "      <td>193</td>\n",
       "      <td>371</td>\n",
       "      <td>174</td>\n",
       "      <td>121</td>\n",
       "      <td>-16</td>\n",
       "      <td>...</td>\n",
       "      <td>0.0</td>\n",
       "      <td>9.0</td>\n",
       "      <td>-0.9</td>\n",
       "      <td>0.0</td>\n",
       "      <td>0.0</td>\n",
       "      <td>0.9</td>\n",
       "      <td>2.9</td>\n",
       "      <td>23.3</td>\n",
       "      <td>49.4</td>\n",
       "      <td>8</td>\n",
       "    </tr>\n",
       "    <tr>\n",
       "      <th>1</th>\n",
       "      <td>56</td>\n",
       "      <td>1</td>\n",
       "      <td>165</td>\n",
       "      <td>64</td>\n",
       "      <td>81</td>\n",
       "      <td>174</td>\n",
       "      <td>401</td>\n",
       "      <td>149</td>\n",
       "      <td>39</td>\n",
       "      <td>25</td>\n",
       "      <td>...</td>\n",
       "      <td>0.0</td>\n",
       "      <td>8.5</td>\n",
       "      <td>0.0</td>\n",
       "      <td>0.0</td>\n",
       "      <td>0.0</td>\n",
       "      <td>0.2</td>\n",
       "      <td>2.1</td>\n",
       "      <td>20.4</td>\n",
       "      <td>38.8</td>\n",
       "      <td>6</td>\n",
       "    </tr>\n",
       "    <tr>\n",
       "      <th>2</th>\n",
       "      <td>54</td>\n",
       "      <td>0</td>\n",
       "      <td>172</td>\n",
       "      <td>95</td>\n",
       "      <td>138</td>\n",
       "      <td>163</td>\n",
       "      <td>386</td>\n",
       "      <td>185</td>\n",
       "      <td>102</td>\n",
       "      <td>96</td>\n",
       "      <td>...</td>\n",
       "      <td>0.0</td>\n",
       "      <td>9.5</td>\n",
       "      <td>-2.4</td>\n",
       "      <td>0.0</td>\n",
       "      <td>0.0</td>\n",
       "      <td>0.3</td>\n",
       "      <td>3.4</td>\n",
       "      <td>12.3</td>\n",
       "      <td>49.0</td>\n",
       "      <td>10</td>\n",
       "    </tr>\n",
       "    <tr>\n",
       "      <th>3</th>\n",
       "      <td>55</td>\n",
       "      <td>0</td>\n",
       "      <td>175</td>\n",
       "      <td>94</td>\n",
       "      <td>100</td>\n",
       "      <td>202</td>\n",
       "      <td>380</td>\n",
       "      <td>179</td>\n",
       "      <td>143</td>\n",
       "      <td>28</td>\n",
       "      <td>...</td>\n",
       "      <td>0.0</td>\n",
       "      <td>12.2</td>\n",
       "      <td>-2.2</td>\n",
       "      <td>0.0</td>\n",
       "      <td>0.0</td>\n",
       "      <td>0.4</td>\n",
       "      <td>2.6</td>\n",
       "      <td>34.6</td>\n",
       "      <td>61.6</td>\n",
       "      <td>1</td>\n",
       "    </tr>\n",
       "    <tr>\n",
       "      <th>4</th>\n",
       "      <td>75</td>\n",
       "      <td>0</td>\n",
       "      <td>190</td>\n",
       "      <td>80</td>\n",
       "      <td>88</td>\n",
       "      <td>181</td>\n",
       "      <td>360</td>\n",
       "      <td>177</td>\n",
       "      <td>103</td>\n",
       "      <td>-16</td>\n",
       "      <td>...</td>\n",
       "      <td>0.0</td>\n",
       "      <td>13.1</td>\n",
       "      <td>-3.6</td>\n",
       "      <td>0.0</td>\n",
       "      <td>0.0</td>\n",
       "      <td>-0.1</td>\n",
       "      <td>3.9</td>\n",
       "      <td>25.4</td>\n",
       "      <td>62.8</td>\n",
       "      <td>7</td>\n",
       "    </tr>\n",
       "  </tbody>\n",
       "</table>\n",
       "<p>5 rows × 280 columns</p>\n",
       "</div>"
      ],
      "text/plain": [
       "   Age  Sex  Height  Weight  QRS_duration  PR_interval  QT_interval  \\\n",
       "0   75    0     190      80            91          193          371   \n",
       "1   56    1     165      64            81          174          401   \n",
       "2   54    0     172      95           138          163          386   \n",
       "3   55    0     175      94           100          202          380   \n",
       "4   75    0     190      80            88          181          360   \n",
       "\n",
       "   T_interval  P_interval  QRS_angle  ...    v6_Q_amplitude  v6_R_amplitude  \\\n",
       "0         174         121        -16  ...               0.0             9.0   \n",
       "1         149          39         25  ...               0.0             8.5   \n",
       "2         185         102         96  ...               0.0             9.5   \n",
       "3         179         143         28  ...               0.0            12.2   \n",
       "4         177         103        -16  ...               0.0            13.1   \n",
       "\n",
       "   v6_S_amplitude  v6_R2_amplitude  v6_S2_amplitude  v6_P_amplitude  \\\n",
       "0            -0.9              0.0              0.0             0.9   \n",
       "1             0.0              0.0              0.0             0.2   \n",
       "2            -2.4              0.0              0.0             0.3   \n",
       "3            -2.2              0.0              0.0             0.4   \n",
       "4            -3.6              0.0              0.0            -0.1   \n",
       "\n",
       "   v6_T_amplitude  v6_QRSA  v6_QRSTA  Class  \n",
       "0             2.9     23.3      49.4      8  \n",
       "1             2.1     20.4      38.8      6  \n",
       "2             3.4     12.3      49.0     10  \n",
       "3             2.6     34.6      61.6      1  \n",
       "4             3.9     25.4      62.8      7  \n",
       "\n",
       "[5 rows x 280 columns]"
      ]
     },
     "execution_count": 4,
     "metadata": {},
     "output_type": "execute_result"
    }
   ],
   "source": [
    "cardio.set_axis(col_names, axis=1,inplace=True)\n",
    "cardio.head()"
   ]
  },
  {
   "cell_type": "code",
   "execution_count": 5,
   "metadata": {},
   "outputs": [],
   "source": [
    "class_names = { 1: 'Normal_ECG',\n",
    "                2: 'Ischemic_changes',\n",
    "                3: 'Old_Anterior_Myocardial_Infarction',\n",
    "                4: 'Old_Inferior_Myocardial_Infarction',\n",
    "                5: 'Sinus_tachycardia',\n",
    "                6: 'Sinus_bradycardia',\n",
    "                7: 'Ventricular_Premature_Contraction',\n",
    "                8: 'Supraventricular_Premature_Contraction',\n",
    "                9: 'Left_bundle_branch_block',\n",
    "                10: 'Right_bundle_branch_block',\n",
    "                11: 'First_degree_AtrioVentricular_block',\n",
    "                12: 'Second_degree_AtrioVentricular_block',\n",
    "                13: 'Third_degree_AtrioVentricular_block',\n",
    "                14: 'Left_ventricule_hypertrophy',\n",
    "                15: 'Atrial_Fibrilation_or_Flutter',\n",
    "                16: 'Others'\n",
    "                     }"
   ]
  },
  {
   "cell_type": "code",
   "execution_count": 6,
   "metadata": {},
   "outputs": [
    {
     "data": {
      "text/plain": [
       "Normal_ECG                                245\n",
       "Right_bundle_branch_block                  50\n",
       "Ischemic_changes                           44\n",
       "Sinus_bradycardia                          25\n",
       "Others                                     22\n",
       "Old_Anterior_Myocardial_Infarction         15\n",
       "Old_Inferior_Myocardial_Infarction         15\n",
       "Sinus_tachycardia                          13\n",
       "Left_bundle_branch_block                    9\n",
       "Atrial_Fibrilation_or_Flutter               5\n",
       "Left_ventricule_hypertrophy                 4\n",
       "Ventricular_Premature_Contraction           3\n",
       "Supraventricular_Premature_Contraction      2\n",
       "Name: Class, dtype: int64"
      ]
     },
     "execution_count": 6,
     "metadata": {},
     "output_type": "execute_result"
    }
   ],
   "source": [
    "# map to class names\n",
    "cardio['Class'].map(class_names).value_counts()"
   ]
  },
  {
   "cell_type": "markdown",
   "metadata": {},
   "source": [
    "#### İlk çalışma için yeni bir dataset oluşturalım."
   ]
  },
  {
   "cell_type": "markdown",
   "metadata": {},
   "source": [
    "## Feature Selection Yapmadan"
   ]
  },
  {
   "cell_type": "code",
   "execution_count": 7,
   "metadata": {},
   "outputs": [],
   "source": [
    "data1=cardio"
   ]
  },
  {
   "cell_type": "markdown",
   "metadata": {},
   "source": [
    "İki class'a ayıralım, ECG normal olanlar 0, diğerleri 1 olsun."
   ]
  },
  {
   "cell_type": "code",
   "execution_count": 8,
   "metadata": {},
   "outputs": [],
   "source": [
    "data1['Class'][data1['Class']==1] = 0\n",
    "data1['Class'][data1['Class']>1] = 1"
   ]
  },
  {
   "cell_type": "code",
   "execution_count": 9,
   "metadata": {},
   "outputs": [
    {
     "data": {
      "text/html": [
       "<div>\n",
       "<style scoped>\n",
       "    .dataframe tbody tr th:only-of-type {\n",
       "        vertical-align: middle;\n",
       "    }\n",
       "\n",
       "    .dataframe tbody tr th {\n",
       "        vertical-align: top;\n",
       "    }\n",
       "\n",
       "    .dataframe thead th {\n",
       "        text-align: right;\n",
       "    }\n",
       "</style>\n",
       "<table border=\"1\" class=\"dataframe\">\n",
       "  <thead>\n",
       "    <tr style=\"text-align: right;\">\n",
       "      <th></th>\n",
       "      <th>Age</th>\n",
       "      <th>Sex</th>\n",
       "      <th>Height</th>\n",
       "      <th>Weight</th>\n",
       "      <th>QRS_duration</th>\n",
       "      <th>PR_interval</th>\n",
       "      <th>QT_interval</th>\n",
       "      <th>T_interval</th>\n",
       "      <th>P_interval</th>\n",
       "      <th>QRS_angle</th>\n",
       "      <th>...</th>\n",
       "      <th>v6_Q_amplitude</th>\n",
       "      <th>v6_R_amplitude</th>\n",
       "      <th>v6_S_amplitude</th>\n",
       "      <th>v6_R2_amplitude</th>\n",
       "      <th>v6_S2_amplitude</th>\n",
       "      <th>v6_P_amplitude</th>\n",
       "      <th>v6_T_amplitude</th>\n",
       "      <th>v6_QRSA</th>\n",
       "      <th>v6_QRSTA</th>\n",
       "      <th>Class</th>\n",
       "    </tr>\n",
       "  </thead>\n",
       "  <tbody>\n",
       "    <tr>\n",
       "      <th>0</th>\n",
       "      <td>75</td>\n",
       "      <td>0</td>\n",
       "      <td>190</td>\n",
       "      <td>80</td>\n",
       "      <td>91</td>\n",
       "      <td>193</td>\n",
       "      <td>371</td>\n",
       "      <td>174</td>\n",
       "      <td>121</td>\n",
       "      <td>-16</td>\n",
       "      <td>...</td>\n",
       "      <td>0.0</td>\n",
       "      <td>9.0</td>\n",
       "      <td>-0.9</td>\n",
       "      <td>0.0</td>\n",
       "      <td>0.0</td>\n",
       "      <td>0.9</td>\n",
       "      <td>2.9</td>\n",
       "      <td>23.3</td>\n",
       "      <td>49.4</td>\n",
       "      <td>1</td>\n",
       "    </tr>\n",
       "    <tr>\n",
       "      <th>1</th>\n",
       "      <td>56</td>\n",
       "      <td>1</td>\n",
       "      <td>165</td>\n",
       "      <td>64</td>\n",
       "      <td>81</td>\n",
       "      <td>174</td>\n",
       "      <td>401</td>\n",
       "      <td>149</td>\n",
       "      <td>39</td>\n",
       "      <td>25</td>\n",
       "      <td>...</td>\n",
       "      <td>0.0</td>\n",
       "      <td>8.5</td>\n",
       "      <td>0.0</td>\n",
       "      <td>0.0</td>\n",
       "      <td>0.0</td>\n",
       "      <td>0.2</td>\n",
       "      <td>2.1</td>\n",
       "      <td>20.4</td>\n",
       "      <td>38.8</td>\n",
       "      <td>1</td>\n",
       "    </tr>\n",
       "    <tr>\n",
       "      <th>2</th>\n",
       "      <td>54</td>\n",
       "      <td>0</td>\n",
       "      <td>172</td>\n",
       "      <td>95</td>\n",
       "      <td>138</td>\n",
       "      <td>163</td>\n",
       "      <td>386</td>\n",
       "      <td>185</td>\n",
       "      <td>102</td>\n",
       "      <td>96</td>\n",
       "      <td>...</td>\n",
       "      <td>0.0</td>\n",
       "      <td>9.5</td>\n",
       "      <td>-2.4</td>\n",
       "      <td>0.0</td>\n",
       "      <td>0.0</td>\n",
       "      <td>0.3</td>\n",
       "      <td>3.4</td>\n",
       "      <td>12.3</td>\n",
       "      <td>49.0</td>\n",
       "      <td>1</td>\n",
       "    </tr>\n",
       "    <tr>\n",
       "      <th>3</th>\n",
       "      <td>55</td>\n",
       "      <td>0</td>\n",
       "      <td>175</td>\n",
       "      <td>94</td>\n",
       "      <td>100</td>\n",
       "      <td>202</td>\n",
       "      <td>380</td>\n",
       "      <td>179</td>\n",
       "      <td>143</td>\n",
       "      <td>28</td>\n",
       "      <td>...</td>\n",
       "      <td>0.0</td>\n",
       "      <td>12.2</td>\n",
       "      <td>-2.2</td>\n",
       "      <td>0.0</td>\n",
       "      <td>0.0</td>\n",
       "      <td>0.4</td>\n",
       "      <td>2.6</td>\n",
       "      <td>34.6</td>\n",
       "      <td>61.6</td>\n",
       "      <td>0</td>\n",
       "    </tr>\n",
       "    <tr>\n",
       "      <th>4</th>\n",
       "      <td>75</td>\n",
       "      <td>0</td>\n",
       "      <td>190</td>\n",
       "      <td>80</td>\n",
       "      <td>88</td>\n",
       "      <td>181</td>\n",
       "      <td>360</td>\n",
       "      <td>177</td>\n",
       "      <td>103</td>\n",
       "      <td>-16</td>\n",
       "      <td>...</td>\n",
       "      <td>0.0</td>\n",
       "      <td>13.1</td>\n",
       "      <td>-3.6</td>\n",
       "      <td>0.0</td>\n",
       "      <td>0.0</td>\n",
       "      <td>-0.1</td>\n",
       "      <td>3.9</td>\n",
       "      <td>25.4</td>\n",
       "      <td>62.8</td>\n",
       "      <td>1</td>\n",
       "    </tr>\n",
       "  </tbody>\n",
       "</table>\n",
       "<p>5 rows × 280 columns</p>\n",
       "</div>"
      ],
      "text/plain": [
       "   Age  Sex  Height  Weight  QRS_duration  PR_interval  QT_interval  \\\n",
       "0   75    0     190      80            91          193          371   \n",
       "1   56    1     165      64            81          174          401   \n",
       "2   54    0     172      95           138          163          386   \n",
       "3   55    0     175      94           100          202          380   \n",
       "4   75    0     190      80            88          181          360   \n",
       "\n",
       "   T_interval  P_interval  QRS_angle  ...    v6_Q_amplitude  v6_R_amplitude  \\\n",
       "0         174         121        -16  ...               0.0             9.0   \n",
       "1         149          39         25  ...               0.0             8.5   \n",
       "2         185         102         96  ...               0.0             9.5   \n",
       "3         179         143         28  ...               0.0            12.2   \n",
       "4         177         103        -16  ...               0.0            13.1   \n",
       "\n",
       "   v6_S_amplitude  v6_R2_amplitude  v6_S2_amplitude  v6_P_amplitude  \\\n",
       "0            -0.9              0.0              0.0             0.9   \n",
       "1             0.0              0.0              0.0             0.2   \n",
       "2            -2.4              0.0              0.0             0.3   \n",
       "3            -2.2              0.0              0.0             0.4   \n",
       "4            -3.6              0.0              0.0            -0.1   \n",
       "\n",
       "   v6_T_amplitude  v6_QRSA  v6_QRSTA  Class  \n",
       "0             2.9     23.3      49.4      1  \n",
       "1             2.1     20.4      38.8      1  \n",
       "2             3.4     12.3      49.0      1  \n",
       "3             2.6     34.6      61.6      0  \n",
       "4             3.9     25.4      62.8      1  \n",
       "\n",
       "[5 rows x 280 columns]"
      ]
     },
     "execution_count": 9,
     "metadata": {},
     "output_type": "execute_result"
    }
   ],
   "source": [
    "data1.head()"
   ]
  },
  {
   "cell_type": "markdown",
   "metadata": {},
   "source": [
    "Hatalı feature tespiti"
   ]
  },
  {
   "cell_type": "code",
   "execution_count": 10,
   "metadata": {},
   "outputs": [
    {
     "name": "stdout",
     "output_type": "stream",
     "text": [
      "T_angle 8\n",
      "P_angle 22\n",
      "QRST_angle 1\n",
      "J_angle 376\n",
      "Heart_rate 1\n"
     ]
    }
   ],
   "source": [
    "indexes_missing = data1.columns[data1.isnull().any()]\n",
    "for index in indexes_missing:\n",
    "    print(index,data1[index].isnull().sum())"
   ]
  },
  {
   "cell_type": "code",
   "execution_count": 11,
   "metadata": {},
   "outputs": [
    {
     "data": {
      "text/plain": [
       "0     NaN\n",
       "1     NaN\n",
       "2    23.0\n",
       "3     NaN\n",
       "4     NaN\n",
       "Name: J_angle, dtype: float64"
      ]
     },
     "execution_count": 11,
     "metadata": {},
     "output_type": "execute_result"
    }
   ],
   "source": [
    "#Kontrol\n",
    "data1['J_angle'].head(5)"
   ]
  },
  {
   "cell_type": "markdown",
   "metadata": {},
   "source": [
    "P_angle ve J_angle adındaki yüksek miktardaki veri kaybına sahip feature'ları silelim."
   ]
  },
  {
   "cell_type": "code",
   "execution_count": 12,
   "metadata": {},
   "outputs": [
    {
     "name": "stdout",
     "output_type": "stream",
     "text": [
      "kolon sayısı 278'e düştü: (452, 278)\n"
     ]
    }
   ],
   "source": [
    "data1.drop(['P_angle','J_angle'],axis=1,inplace=True)\n",
    "\n",
    "print('kolon sayısı 278\\'e düştü:',data1.shape)"
   ]
  },
  {
   "cell_type": "markdown",
   "metadata": {},
   "source": [
    "Diğer üç feature'daki arızalı değerlerin yerine ortalamaları koyalım ve missing value değerine sahip olup olmadıklarını soralım."
   ]
  },
  {
   "cell_type": "code",
   "execution_count": 13,
   "metadata": {},
   "outputs": [
    {
     "name": "stdout",
     "output_type": "stream",
     "text": [
      "T_angle 0\n",
      "QRST_angle 0\n",
      "Heart_rate 0\n"
     ]
    }
   ],
   "source": [
    "for index in ['T_angle','QRST_angle','Heart_rate']:\n",
    "    data1[index].fillna(data1[index].mean(), inplace=True)\n",
    "    print(index,data1[index].isnull().sum())"
   ]
  },
  {
   "cell_type": "code",
   "execution_count": 14,
   "metadata": {},
   "outputs": [],
   "source": [
    "denemetarg=data1['Class']"
   ]
  },
  {
   "cell_type": "code",
   "execution_count": 15,
   "metadata": {},
   "outputs": [],
   "source": [
    "data1.drop(['Class'], axis=1,inplace=True)"
   ]
  },
  {
   "cell_type": "code",
   "execution_count": 16,
   "metadata": {},
   "outputs": [
    {
     "data": {
      "text/plain": [
       "(452, 277)"
      ]
     },
     "execution_count": 16,
     "metadata": {},
     "output_type": "execute_result"
    }
   ],
   "source": [
    "data1.shape"
   ]
  },
  {
   "cell_type": "code",
   "execution_count": 17,
   "metadata": {},
   "outputs": [],
   "source": [
    "# Split dataset into training set and test set\n",
    "X_train, X_test, y_train, y_test = train_test_split(data1, denemetarg, test_size=0.2,random_state=109) # 70% training and 30% test"
   ]
  },
  {
   "cell_type": "code",
   "execution_count": 18,
   "metadata": {},
   "outputs": [],
   "source": [
    "X_train, X_valid, y_train, y_valid = train_test_split(X_train, y_train, test_size=0.25,random_state=109) # 70% training and 30% test"
   ]
  },
  {
   "cell_type": "code",
   "execution_count": 19,
   "metadata": {},
   "outputs": [
    {
     "data": {
      "text/plain": [
       "((270, 277), (270,), (91, 277), (91,), (91, 277), (91,))"
      ]
     },
     "execution_count": 19,
     "metadata": {},
     "output_type": "execute_result"
    }
   ],
   "source": [
    "X_train.shape,y_train.shape, X_valid.shape, y_valid.shape, X_test.shape,y_test.shape"
   ]
  },
  {
   "cell_type": "code",
   "execution_count": 20,
   "metadata": {},
   "outputs": [],
   "source": [
    "#Import Gaussian Naive Bayes model\n",
    "from sklearn.naive_bayes import GaussianNB\n",
    "\n",
    "#Create a Gaussian Classifier\n",
    "gnb = GaussianNB()\n",
    "\n",
    "#Train the model using the training sets\n",
    "gnb.fit(X_train, y_train)\n",
    "\n",
    "#Predict the response for test dataset\n",
    "y_pred = gnb.predict(X_test)"
   ]
  },
  {
   "cell_type": "code",
   "execution_count": 21,
   "metadata": {},
   "outputs": [
    {
     "name": "stdout",
     "output_type": "stream",
     "text": [
      "Accuracy: 0.6483516483516484\n",
      "              precision    recall  f1-score   support\n",
      "\n",
      "           0       0.60      0.94      0.73        47\n",
      "           1       0.83      0.34      0.48        44\n",
      "\n",
      "   micro avg       0.65      0.65      0.65        91\n",
      "   macro avg       0.72      0.64      0.61        91\n",
      "weighted avg       0.71      0.65      0.61        91\n",
      "\n",
      "[[44  3]\n",
      " [29 15]]\n"
     ]
    }
   ],
   "source": [
    "from sklearn import metrics\n",
    "\n",
    "print(\"Accuracy:\",metrics.accuracy_score(y_test, y_pred))\n",
    "print(metrics.classification_report(y_test, y_pred))\n",
    "print(metrics.confusion_matrix(y_test, y_pred))"
   ]
  },
  {
   "cell_type": "code",
   "execution_count": null,
   "metadata": {},
   "outputs": [],
   "source": []
  },
  {
   "cell_type": "code",
   "execution_count": 22,
   "metadata": {},
   "outputs": [],
   "source": [
    "y_pred2=gnb.predict(X_valid)\n"
   ]
  },
  {
   "cell_type": "code",
   "execution_count": 23,
   "metadata": {},
   "outputs": [
    {
     "name": "stdout",
     "output_type": "stream",
     "text": [
      "Accuracy: 0.7142857142857143\n",
      "              precision    recall  f1-score   support\n",
      "\n",
      "           0       0.69      0.90      0.78        51\n",
      "           1       0.79      0.47      0.59        40\n",
      "\n",
      "   micro avg       0.71      0.71      0.71        91\n",
      "   macro avg       0.74      0.69      0.69        91\n",
      "weighted avg       0.73      0.71      0.70        91\n",
      "\n",
      "[[46  5]\n",
      " [21 19]]\n"
     ]
    }
   ],
   "source": [
    "print(\"Accuracy:\",metrics.accuracy_score(y_valid, y_pred2))\n",
    "print(metrics.classification_report(y_valid, y_pred2))\n",
    "print(metrics.confusion_matrix(y_valid, y_pred2))"
   ]
  },
  {
   "cell_type": "markdown",
   "metadata": {},
   "source": [
    "## Feature Selection\n",
    "Data1 üzerindeki feature'lardan bazılarını yok edelim. İlk olarak missing value sözkonusu olan feature'lar bulmaya çalışalım."
   ]
  },
  {
   "cell_type": "code",
   "execution_count": 24,
   "metadata": {},
   "outputs": [],
   "source": [
    "fs = FeatureSelector(data = data1, labels = denemetarg)"
   ]
  },
  {
   "cell_type": "code",
   "execution_count": 25,
   "metadata": {},
   "outputs": [
    {
     "name": "stdout",
     "output_type": "stream",
     "text": [
      "0 features with greater than 0.65 missing values.\n",
      "\n"
     ]
    }
   ],
   "source": [
    "fs.identify_missing(missing_threshold=0.65)"
   ]
  },
  {
   "cell_type": "markdown",
   "metadata": {},
   "source": [
    "Sadece bir tek değere sahip olan feature'lar varsa onları tespit edelim."
   ]
  },
  {
   "cell_type": "code",
   "execution_count": 26,
   "metadata": {},
   "outputs": [
    {
     "name": "stdout",
     "output_type": "stream",
     "text": [
      "17 features with a single unique value.\n",
      "\n"
     ]
    }
   ],
   "source": [
    "fs.identify_single_unique()"
   ]
  },
  {
   "cell_type": "code",
   "execution_count": 27,
   "metadata": {},
   "outputs": [
    {
     "data": {
      "text/plain": [
       "['d1_S2_width',\n",
       " 'avl_S2_width',\n",
       " 'avl_Exist_ragged_R',\n",
       " 'avf_Exist_ragged_P',\n",
       " 'v4_Exist_ragged_P',\n",
       " 'v4_Exist_diphasic_P',\n",
       " 'v5_S2_width',\n",
       " 'v5_Exist_ragged_R',\n",
       " 'v5_Exist_ragged_P',\n",
       " 'v5_Exist_ragged_T',\n",
       " 'v6_S2_width',\n",
       " 'v6_Exist_diphasic_P',\n",
       " 'v6_Exist_ragged_T',\n",
       " 'd1_S2_amplitude',\n",
       " 'avl_S2_amplitude',\n",
       " 'v5_S2_amplitude',\n",
       " 'v6_S2_amplitude']"
      ]
     },
     "execution_count": 27,
     "metadata": {},
     "output_type": "execute_result"
    }
   ],
   "source": [
    "single_unique = fs.ops['single_unique']\n",
    "single_unique"
   ]
  },
  {
   "cell_type": "markdown",
   "metadata": {},
   "source": [
    "Yukarıdaki feture'ları siliyoruz."
   ]
  },
  {
   "cell_type": "code",
   "execution_count": 28,
   "metadata": {},
   "outputs": [
    {
     "data": {
      "text/plain": [
       "(452, 260)"
      ]
     },
     "execution_count": 28,
     "metadata": {},
     "output_type": "execute_result"
    }
   ],
   "source": [
    "data1.drop(['d1_S2_width',\n",
    " 'avl_S2_width',\n",
    " 'avl_Exist_ragged_R',\n",
    " 'avf_Exist_ragged_P',\n",
    " 'v4_Exist_ragged_P',\n",
    " 'v4_Exist_diphasic_P',\n",
    " 'v5_S2_width',\n",
    " 'v5_Exist_ragged_R',\n",
    " 'v5_Exist_ragged_P',\n",
    " 'v5_Exist_ragged_T',\n",
    " 'v6_S2_width',\n",
    " 'v6_Exist_diphasic_P',\n",
    " 'v6_Exist_ragged_T',\n",
    " 'd1_S2_amplitude',\n",
    " 'avl_S2_amplitude',\n",
    " 'v5_S2_amplitude',\n",
    " 'v6_S2_amplitude'], axis=1,inplace=True)\n",
    "data1.shape"
   ]
  },
  {
   "cell_type": "markdown",
   "metadata": {},
   "source": [
    "Aralarındaki korelasyonu >0.95 olan feature'ları tespit ediyoruz."
   ]
  },
  {
   "cell_type": "code",
   "execution_count": 29,
   "metadata": {},
   "outputs": [
    {
     "name": "stdout",
     "output_type": "stream",
     "text": [
      "7 features with a correlation magnitude greater than 0.95.\n",
      "\n"
     ]
    }
   ],
   "source": [
    "fs.identify_collinear(correlation_threshold=0.95)"
   ]
  },
  {
   "cell_type": "markdown",
   "metadata": {},
   "source": [
    "7 tane feature kendi aralarında 0.95 üzerinde korelasyona sahip. Bunları görelim ve biri dışında diğerlerini silelim."
   ]
  },
  {
   "cell_type": "code",
   "execution_count": 30,
   "metadata": {},
   "outputs": [
    {
     "data": {
      "text/plain": [
       "['avr_S2_amplitude',\n",
       " 'avf_S2_amplitude',\n",
       " 'v1_S2_amplitude',\n",
       " 'v2_S2_amplitude',\n",
       " 'v3_R2_amplitude',\n",
       " 'v4_S2_amplitude',\n",
       " 'v6_R2_amplitude']"
      ]
     },
     "execution_count": 30,
     "metadata": {},
     "output_type": "execute_result"
    }
   ],
   "source": [
    "correlated_features = fs.ops['collinear']\n",
    "correlated_features"
   ]
  },
  {
   "cell_type": "markdown",
   "metadata": {},
   "source": [
    "v6_R2_amplitude isimli feature dışında diğerleri silinecek."
   ]
  },
  {
   "cell_type": "code",
   "execution_count": 31,
   "metadata": {},
   "outputs": [
    {
     "data": {
      "text/plain": [
       "(452, 254)"
      ]
     },
     "execution_count": 31,
     "metadata": {},
     "output_type": "execute_result"
    }
   ],
   "source": [
    "data1.drop(['avr_S2_amplitude',\n",
    " 'avf_S2_amplitude',\n",
    " 'v1_S2_amplitude',\n",
    " 'v2_S2_amplitude',\n",
    " 'v3_R2_amplitude',\n",
    " 'v4_S2_amplitude'],axis=1,inplace=True)\n",
    "data1.shape"
   ]
  },
  {
   "cell_type": "markdown",
   "metadata": {},
   "source": [
    "## Zero Importance"
   ]
  },
  {
   "cell_type": "code",
   "execution_count": 32,
   "metadata": {},
   "outputs": [
    {
     "name": "stdout",
     "output_type": "stream",
     "text": [
      "Training Gradient Boosting Model\n",
      "\n",
      "Training until validation scores don't improve for 100 rounds.\n",
      "Early stopping, best iteration is:\n",
      "[42]\tvalid_0's binary_logloss: 0.467164\tvalid_0's auc: 0.841733\n",
      "Training until validation scores don't improve for 100 rounds.\n",
      "Early stopping, best iteration is:\n",
      "[39]\tvalid_0's binary_logloss: 0.442203\tvalid_0's auc: 0.876298\n",
      "Training until validation scores don't improve for 100 rounds.\n",
      "Early stopping, best iteration is:\n",
      "[59]\tvalid_0's binary_logloss: 0.427258\tvalid_0's auc: 0.886179\n",
      "Training until validation scores don't improve for 100 rounds.\n",
      "Early stopping, best iteration is:\n",
      "[138]\tvalid_0's binary_logloss: 0.367228\tvalid_0's auc: 0.922145\n",
      "Training until validation scores don't improve for 100 rounds.\n",
      "Early stopping, best iteration is:\n",
      "[166]\tvalid_0's binary_logloss: 0.301601\tvalid_0's auc: 0.924908\n",
      "Training until validation scores don't improve for 100 rounds.\n",
      "Early stopping, best iteration is:\n",
      "[86]\tvalid_0's binary_logloss: 0.350237\tvalid_0's auc: 0.918656\n",
      "Training until validation scores don't improve for 100 rounds.\n",
      "Early stopping, best iteration is:\n",
      "[105]\tvalid_0's binary_logloss: 0.349438\tvalid_0's auc: 0.920506\n",
      "Training until validation scores don't improve for 100 rounds.\n",
      "Early stopping, best iteration is:\n",
      "[17]\tvalid_0's binary_logloss: 0.485434\tvalid_0's auc: 0.931125\n",
      "Training until validation scores don't improve for 100 rounds.\n",
      "Early stopping, best iteration is:\n",
      "[4]\tvalid_0's binary_logloss: 0.604145\tvalid_0's auc: 0.902193\n",
      "Training until validation scores don't improve for 100 rounds.\n",
      "Early stopping, best iteration is:\n",
      "[2]\tvalid_0's binary_logloss: 0.649774\tvalid_0's auc: 0.80625\n",
      "\n",
      "99 features with zero importance after one-hot encoding.\n",
      "\n"
     ]
    }
   ],
   "source": [
    "fs.identify_zero_importance(task = 'classification', eval_metric = 'auc', \n",
    "                            n_iterations = 10, early_stopping = True)"
   ]
  },
  {
   "cell_type": "code",
   "execution_count": 33,
   "metadata": {},
   "outputs": [
    {
     "data": {
      "text/plain": [
       "['avl_Exist_diphasic_T',\n",
       " 'd1_Exist_diphasic_P',\n",
       " 'd1_Exist_ragged_P',\n",
       " 'v2_Q_amplitude',\n",
       " 'd3_Exist_diphasic_T',\n",
       " 'd1_Exist_ragged_T',\n",
       " 'd3_R2_width',\n",
       " 'd1_Exist_diphasic_T',\n",
       " 'd2_Q_width',\n",
       " 'd3_Exist_ragged_P',\n",
       " 'avf_S2_width',\n",
       " 'd3_Exist_diphasic_R',\n",
       " 'd3_Exist_ragged_R',\n",
       " 'avf_Exist_ragged_R',\n",
       " 'avf_Exist_diphasic_R',\n",
       " 'avf_R2_width',\n",
       " 'avl_Exist_ragged_P',\n",
       " 'd1_Exist_diphasic_R',\n",
       " 'v2_R2_amplitude',\n",
       " 'd3_Exist_ragged_T',\n",
       " 'avr_R2_width',\n",
       " 'v5_R2_amplitude',\n",
       " 'avr_S2_width',\n",
       " 'd3_Exist_diphasic_P',\n",
       " 'avr_Exist_ragged_R',\n",
       " 'avr_Exist_diphasic_R',\n",
       " 'avr_Exist_ragged_P',\n",
       " 'avr_Exist_diphasic_P',\n",
       " 'avr_Exist_ragged_T',\n",
       " 'v4_R2_amplitude',\n",
       " 'avr_Exist_diphasic_T',\n",
       " 'avf_Exist_ragged_T',\n",
       " 'v6_R2_amplitude',\n",
       " 'avl_R2_width',\n",
       " 'v3_S2_amplitude',\n",
       " 'avl_Exist_diphasic_R',\n",
       " 'd1_R2_width',\n",
       " 'avl_Exist_diphasic_P',\n",
       " 'd1_Exist_ragged_R',\n",
       " 'avl_Exist_ragged_T',\n",
       " 'avf_Exist_diphasic_P',\n",
       " 'v4_Q_width',\n",
       " 'avf_R2_amplitude',\n",
       " 'v2_Exist_ragged_T',\n",
       " 'd2_Exist_ragged_T',\n",
       " 'd2_Exist_diphasic_T',\n",
       " 'v3_R2_width',\n",
       " 'v3_S2_width',\n",
       " 'd1_R2_amplitude',\n",
       " 'v3_Exist_ragged_R',\n",
       " 'v6_Exist_diphasic_T',\n",
       " 'v6_Exist_ragged_P',\n",
       " 'v6_Exist_diphasic_R',\n",
       " 'v6_Exist_ragged_R',\n",
       " 'v6_R2_width',\n",
       " 'v3_Exist_diphasic_R',\n",
       " 'v5_Exist_diphasic_T',\n",
       " 'v5_Exist_diphasic_P',\n",
       " 'v5_Exist_diphasic_R',\n",
       " 'v5_R2_width',\n",
       " 'v3_Exist_ragged_P',\n",
       " 'v4_Exist_diphasic_T',\n",
       " 'v4_Exist_ragged_T',\n",
       " 'v4_Exist_diphasic_R',\n",
       " 'v4_Exist_ragged_R',\n",
       " 'v3_Exist_diphasic_P',\n",
       " 'v4_S2_width',\n",
       " 'v4_R2_width',\n",
       " 'v3_Exist_ragged_T',\n",
       " 'v2_Exist_diphasic_T',\n",
       " 'v2_Exist_diphasic_P',\n",
       " 'avf_Exist_diphasic_T',\n",
       " 'd2_R2_amplitude',\n",
       " 'v1_Q_width',\n",
       " 'v1_S2_width',\n",
       " 'avl_R2_amplitude',\n",
       " 'v3_Exist_diphasic_T',\n",
       " 'v1_Exist_ragged_R',\n",
       " 'v1_Exist_diphasic_R',\n",
       " 'v1_Exist_ragged_P',\n",
       " 'v1_Exist_diphasic_P',\n",
       " 'd2_R2_width',\n",
       " 'v1_Exist_ragged_T',\n",
       " 'avr_R2_amplitude',\n",
       " 'v1_Exist_diphasic_T',\n",
       " 'd2_S2_width',\n",
       " 'v2_Q_width',\n",
       " 'v2_S2_width',\n",
       " 'd3_S2_amplitude',\n",
       " 'd3_R2_amplitude',\n",
       " 'v2_Exist_ragged_R',\n",
       " 'd2_Exist_ragged_R',\n",
       " 'v2_Exist_diphasic_R',\n",
       " 'd2_Exist_diphasic_R',\n",
       " 'v2_Exist_ragged_P',\n",
       " 'd2_Exist_ragged_P',\n",
       " 'd2_Exist_diphasic_P',\n",
       " 'd2_S2_amplitude',\n",
       " 'd3_S2_width']"
      ]
     },
     "execution_count": 33,
     "metadata": {},
     "output_type": "execute_result"
    }
   ],
   "source": [
    "# list of zero importance features\n",
    "zero_importance_features = fs.ops['zero_importance']\n",
    "zero_importance_features"
   ]
  },
  {
   "cell_type": "code",
   "execution_count": 79,
   "metadata": {},
   "outputs": [
    {
     "data": {
      "image/png": "[encoded data removed]",
      "text/plain": [
       "<Figure size 1000x600 with 1 Axes>"
      ]
     },
     "metadata": {},
     "output_type": "display_data"
    },
    {
     "data": {
      "image/png": "[encoded data removed]",
      "text/plain": [
       "<Figure size 600x400 with 1 Axes>"
      ]
     },
     "metadata": {},
     "output_type": "display_data"
    },
    {
     "name": "stdout",
     "output_type": "stream",
     "text": [
      "139 features required for 0.99 of cumulative importance\n"
     ]
    }
   ],
   "source": [
    "# plot the feature importances\n",
    "fs.plot_feature_importances(threshold = 0.99, plot_n = 30)"
   ]
  },
  {
   "cell_type": "code",
   "execution_count": 35,
   "metadata": {},
   "outputs": [
    {
     "data": {
      "text/plain": [
       "(452, 155)"
      ]
     },
     "execution_count": 35,
     "metadata": {},
     "output_type": "execute_result"
    }
   ],
   "source": [
    "data1.drop(zero_importance_features,axis=1,inplace=True)\n",
    "data1.shape"
   ]
  },
  {
   "cell_type": "markdown",
   "metadata": {},
   "source": [
    "## Low Importance"
   ]
  },
  {
   "cell_type": "code",
   "execution_count": 36,
   "metadata": {},
   "outputs": [
    {
     "name": "stdout",
     "output_type": "stream",
     "text": [
      "138 features required for cumulative importance of 0.99 after one hot encoding.\n",
      "116 features do not contribute to cumulative importance of 0.99.\n",
      "\n"
     ]
    }
   ],
   "source": [
    "fs.identify_low_importance(cumulative_importance = 0.99)"
   ]
  },
  {
   "cell_type": "code",
   "execution_count": 37,
   "metadata": {},
   "outputs": [
    {
     "data": {
      "text/plain": [
       "['v2_R_width',\n",
       " 'd1_Q_amplitude',\n",
       " 'v5_Q_amplitude',\n",
       " 'd2_Intrinsic_deflections',\n",
       " 'd2_Q_amplitude',\n",
       " 'v3_Q_amplitude',\n",
       " 'v1_R_width',\n",
       " 'd3_S_amplitude',\n",
       " 'v6_Q_width',\n",
       " 'avl_Q_width',\n",
       " 'd3_S_width',\n",
       " 'd1_Q_width',\n",
       " 'avr_S_amplitude',\n",
       " 'v6_Q_amplitude',\n",
       " 'v1_Q_amplitude',\n",
       " 'avr_S_width',\n",
       " 'v2_Exist_diphasic_P',\n",
       " 'v2_Exist_diphasic_T',\n",
       " 'v3_Exist_ragged_T',\n",
       " 'v4_R2_width',\n",
       " 'v4_S2_width',\n",
       " 'v3_Exist_diphasic_P',\n",
       " 'v4_Exist_ragged_R',\n",
       " 'v4_Exist_diphasic_R',\n",
       " 'v4_Exist_ragged_T',\n",
       " 'v4_Exist_diphasic_T',\n",
       " 'v3_Exist_ragged_P',\n",
       " 'v5_R2_width',\n",
       " 'v5_Exist_diphasic_R',\n",
       " 'v5_Exist_diphasic_P',\n",
       " 'v5_Exist_diphasic_T',\n",
       " 'v3_Exist_diphasic_R',\n",
       " 'v6_R2_width',\n",
       " 'v6_Exist_ragged_R',\n",
       " 'v6_Exist_diphasic_R',\n",
       " 'v6_Exist_ragged_P',\n",
       " 'v6_Exist_diphasic_T',\n",
       " 'avf_Exist_diphasic_T',\n",
       " 'd2_R2_amplitude',\n",
       " 'v2_Q_width',\n",
       " 'v1_S2_width',\n",
       " 'd2_Exist_diphasic_P',\n",
       " 'd2_Exist_ragged_P',\n",
       " 'v2_Exist_ragged_P',\n",
       " 'd2_Exist_diphasic_R',\n",
       " 'v2_Exist_diphasic_R',\n",
       " 'd2_Exist_ragged_R',\n",
       " 'v2_Exist_ragged_R',\n",
       " 'd3_R2_amplitude',\n",
       " 'd3_S2_amplitude',\n",
       " 'v2_S2_width',\n",
       " 'v1_Q_width',\n",
       " 'v3_Exist_ragged_R',\n",
       " 'v1_Exist_diphasic_T',\n",
       " 'avr_R2_amplitude',\n",
       " 'v1_Exist_ragged_T',\n",
       " 'd2_R2_width',\n",
       " 'v1_Exist_diphasic_P',\n",
       " 'v1_Exist_ragged_P',\n",
       " 'v1_Exist_diphasic_R',\n",
       " 'v1_Exist_ragged_R',\n",
       " 'v3_Exist_diphasic_T',\n",
       " 'avl_R2_amplitude',\n",
       " 'd2_S2_width',\n",
       " 'd1_R2_amplitude',\n",
       " 'avl_Exist_diphasic_R',\n",
       " 'v3_R2_width',\n",
       " 'd3_Exist_ragged_T',\n",
       " 'v2_R2_amplitude',\n",
       " 'd1_Exist_diphasic_R',\n",
       " 'avl_Exist_ragged_P',\n",
       " 'avf_R2_width',\n",
       " 'avf_Exist_diphasic_R',\n",
       " 'avf_Exist_ragged_R',\n",
       " 'd3_Exist_ragged_R',\n",
       " 'd3_Exist_diphasic_R',\n",
       " 'avf_S2_width',\n",
       " 'd3_Exist_ragged_P',\n",
       " 'd2_Q_width',\n",
       " 'd1_Exist_diphasic_T',\n",
       " 'd3_R2_width',\n",
       " 'd1_Exist_ragged_T',\n",
       " 'd3_Exist_diphasic_T',\n",
       " 'v2_Q_amplitude',\n",
       " 'd1_Exist_ragged_P',\n",
       " 'd1_Exist_diphasic_P',\n",
       " 'avl_Exist_diphasic_T',\n",
       " 'v4_Q_amplitude',\n",
       " 'avr_R2_width',\n",
       " 'v5_R2_amplitude',\n",
       " 'avr_S2_width',\n",
       " 'd3_Exist_diphasic_P',\n",
       " 'd2_Exist_diphasic_T',\n",
       " 'd2_Exist_ragged_T',\n",
       " 'v2_Exist_ragged_T',\n",
       " 'avf_R2_amplitude',\n",
       " 'v4_Q_width',\n",
       " 'avf_Exist_diphasic_P',\n",
       " 'avl_Exist_ragged_T',\n",
       " 'd1_Exist_ragged_R',\n",
       " 'avl_Exist_diphasic_P',\n",
       " 'd1_R2_width',\n",
       " 'v3_S2_width',\n",
       " 'd2_S2_amplitude',\n",
       " 'avl_R2_width',\n",
       " 'v6_R2_amplitude',\n",
       " 'avf_Exist_ragged_T',\n",
       " 'avr_Exist_diphasic_T',\n",
       " 'v4_R2_amplitude',\n",
       " 'avr_Exist_ragged_T',\n",
       " 'avr_Exist_diphasic_P',\n",
       " 'avr_Exist_ragged_P',\n",
       " 'avr_Exist_diphasic_R',\n",
       " 'avr_Exist_ragged_R',\n",
       " 'v3_S2_amplitude',\n",
       " 'd3_S2_width']"
      ]
     },
     "execution_count": 37,
     "metadata": {},
     "output_type": "execute_result"
    }
   ],
   "source": [
    "low_importance_features = fs.ops['low_importance']\n",
    "low_importance_features"
   ]
  },
  {
   "cell_type": "code",
   "execution_count": 38,
   "metadata": {},
   "outputs": [
    {
     "data": {
      "text/plain": [
       "(452, 155)"
      ]
     },
     "execution_count": 38,
     "metadata": {},
     "output_type": "execute_result"
    }
   ],
   "source": [
    "data1.shape"
   ]
  },
  {
   "cell_type": "code",
   "execution_count": 39,
   "metadata": {},
   "outputs": [
    {
     "name": "stdout",
     "output_type": "stream",
     "text": [
      "tr\n",
      "tr\n",
      "tr\n",
      "tr\n",
      "tr\n",
      "tr\n",
      "tr\n",
      "tr\n",
      "tr\n",
      "tr\n",
      "tr\n",
      "tr\n",
      "tr\n",
      "tr\n",
      "tr\n",
      "tr\n",
      "false\n",
      "false\n",
      "false\n",
      "false\n",
      "false\n",
      "false\n",
      "false\n",
      "false\n",
      "false\n",
      "false\n",
      "false\n",
      "false\n",
      "false\n",
      "false\n",
      "false\n",
      "false\n",
      "false\n",
      "false\n",
      "false\n",
      "false\n",
      "false\n",
      "false\n",
      "false\n",
      "false\n",
      "false\n",
      "false\n",
      "false\n",
      "false\n",
      "false\n",
      "false\n",
      "false\n",
      "false\n",
      "false\n",
      "false\n",
      "false\n",
      "false\n",
      "false\n",
      "false\n",
      "false\n",
      "false\n",
      "false\n",
      "false\n",
      "false\n",
      "false\n",
      "false\n",
      "false\n",
      "false\n",
      "false\n",
      "false\n",
      "false\n",
      "false\n",
      "false\n",
      "false\n",
      "false\n",
      "false\n",
      "false\n",
      "false\n",
      "false\n",
      "false\n",
      "false\n",
      "false\n",
      "false\n",
      "false\n",
      "false\n",
      "false\n",
      "false\n",
      "false\n",
      "false\n",
      "false\n",
      "false\n",
      "false\n",
      "tr\n",
      "false\n",
      "false\n",
      "false\n",
      "false\n",
      "false\n",
      "false\n",
      "false\n",
      "false\n",
      "false\n",
      "false\n",
      "false\n",
      "false\n",
      "false\n",
      "false\n",
      "false\n",
      "false\n",
      "false\n",
      "false\n",
      "false\n",
      "false\n",
      "false\n",
      "false\n",
      "false\n",
      "false\n",
      "false\n",
      "false\n",
      "false\n",
      "false\n"
     ]
    }
   ],
   "source": [
    "for index in range(len(low_importance_features)):\n",
    "    if(low_importance_features[index] in data1.columns):\n",
    "        data1.drop(low_importance_features[index],axis=1,inplace=True)\n",
    "        print('tr')\n",
    "    else:\n",
    "        print('false')"
   ]
  },
  {
   "cell_type": "code",
   "execution_count": 40,
   "metadata": {},
   "outputs": [
    {
     "data": {
      "text/plain": [
       "(452, 138)"
      ]
     },
     "execution_count": 40,
     "metadata": {},
     "output_type": "execute_result"
    }
   ],
   "source": [
    "data1.shape"
   ]
  },
  {
   "cell_type": "code",
   "execution_count": 41,
   "metadata": {},
   "outputs": [
    {
     "data": {
      "text/html": [
       "<div>\n",
       "<style scoped>\n",
       "    .dataframe tbody tr th:only-of-type {\n",
       "        vertical-align: middle;\n",
       "    }\n",
       "\n",
       "    .dataframe tbody tr th {\n",
       "        vertical-align: top;\n",
       "    }\n",
       "\n",
       "    .dataframe thead th {\n",
       "        text-align: right;\n",
       "    }\n",
       "</style>\n",
       "<table border=\"1\" class=\"dataframe\">\n",
       "  <thead>\n",
       "    <tr style=\"text-align: right;\">\n",
       "      <th></th>\n",
       "      <th>Age</th>\n",
       "      <th>Sex</th>\n",
       "      <th>Height</th>\n",
       "      <th>Weight</th>\n",
       "      <th>QRS_duration</th>\n",
       "      <th>PR_interval</th>\n",
       "      <th>QT_interval</th>\n",
       "      <th>T_interval</th>\n",
       "      <th>P_interval</th>\n",
       "      <th>QRS_angle</th>\n",
       "      <th>...</th>\n",
       "      <th>v5_T_amplitude</th>\n",
       "      <th>v5_QRSA</th>\n",
       "      <th>v5_QRSTA</th>\n",
       "      <th>v6_JJ_amplitude</th>\n",
       "      <th>v6_R_amplitude</th>\n",
       "      <th>v6_S_amplitude</th>\n",
       "      <th>v6_P_amplitude</th>\n",
       "      <th>v6_T_amplitude</th>\n",
       "      <th>v6_QRSA</th>\n",
       "      <th>v6_QRSTA</th>\n",
       "    </tr>\n",
       "  </thead>\n",
       "  <tbody>\n",
       "    <tr>\n",
       "      <th>0</th>\n",
       "      <td>75</td>\n",
       "      <td>0</td>\n",
       "      <td>190</td>\n",
       "      <td>80</td>\n",
       "      <td>91</td>\n",
       "      <td>193</td>\n",
       "      <td>371</td>\n",
       "      <td>174</td>\n",
       "      <td>121</td>\n",
       "      <td>-16</td>\n",
       "      <td>...</td>\n",
       "      <td>3.9</td>\n",
       "      <td>25.5</td>\n",
       "      <td>62.9</td>\n",
       "      <td>-0.3</td>\n",
       "      <td>9.0</td>\n",
       "      <td>-0.9</td>\n",
       "      <td>0.9</td>\n",
       "      <td>2.9</td>\n",
       "      <td>23.3</td>\n",
       "      <td>49.4</td>\n",
       "    </tr>\n",
       "    <tr>\n",
       "      <th>1</th>\n",
       "      <td>56</td>\n",
       "      <td>1</td>\n",
       "      <td>165</td>\n",
       "      <td>64</td>\n",
       "      <td>81</td>\n",
       "      <td>174</td>\n",
       "      <td>401</td>\n",
       "      <td>149</td>\n",
       "      <td>39</td>\n",
       "      <td>25</td>\n",
       "      <td>...</td>\n",
       "      <td>2.6</td>\n",
       "      <td>21.6</td>\n",
       "      <td>43.4</td>\n",
       "      <td>-0.5</td>\n",
       "      <td>8.5</td>\n",
       "      <td>0.0</td>\n",
       "      <td>0.2</td>\n",
       "      <td>2.1</td>\n",
       "      <td>20.4</td>\n",
       "      <td>38.8</td>\n",
       "    </tr>\n",
       "    <tr>\n",
       "      <th>2</th>\n",
       "      <td>54</td>\n",
       "      <td>0</td>\n",
       "      <td>172</td>\n",
       "      <td>95</td>\n",
       "      <td>138</td>\n",
       "      <td>163</td>\n",
       "      <td>386</td>\n",
       "      <td>185</td>\n",
       "      <td>102</td>\n",
       "      <td>96</td>\n",
       "      <td>...</td>\n",
       "      <td>3.4</td>\n",
       "      <td>11.5</td>\n",
       "      <td>48.2</td>\n",
       "      <td>0.9</td>\n",
       "      <td>9.5</td>\n",
       "      <td>-2.4</td>\n",
       "      <td>0.3</td>\n",
       "      <td>3.4</td>\n",
       "      <td>12.3</td>\n",
       "      <td>49.0</td>\n",
       "    </tr>\n",
       "    <tr>\n",
       "      <th>3</th>\n",
       "      <td>55</td>\n",
       "      <td>0</td>\n",
       "      <td>175</td>\n",
       "      <td>94</td>\n",
       "      <td>100</td>\n",
       "      <td>202</td>\n",
       "      <td>380</td>\n",
       "      <td>179</td>\n",
       "      <td>143</td>\n",
       "      <td>28</td>\n",
       "      <td>...</td>\n",
       "      <td>3.0</td>\n",
       "      <td>36.8</td>\n",
       "      <td>68.0</td>\n",
       "      <td>0.1</td>\n",
       "      <td>12.2</td>\n",
       "      <td>-2.2</td>\n",
       "      <td>0.4</td>\n",
       "      <td>2.6</td>\n",
       "      <td>34.6</td>\n",
       "      <td>61.6</td>\n",
       "    </tr>\n",
       "    <tr>\n",
       "      <th>4</th>\n",
       "      <td>75</td>\n",
       "      <td>0</td>\n",
       "      <td>190</td>\n",
       "      <td>80</td>\n",
       "      <td>88</td>\n",
       "      <td>181</td>\n",
       "      <td>360</td>\n",
       "      <td>177</td>\n",
       "      <td>103</td>\n",
       "      <td>-16</td>\n",
       "      <td>...</td>\n",
       "      <td>2.9</td>\n",
       "      <td>21.7</td>\n",
       "      <td>48.9</td>\n",
       "      <td>-0.4</td>\n",
       "      <td>13.1</td>\n",
       "      <td>-3.6</td>\n",
       "      <td>-0.1</td>\n",
       "      <td>3.9</td>\n",
       "      <td>25.4</td>\n",
       "      <td>62.8</td>\n",
       "    </tr>\n",
       "  </tbody>\n",
       "</table>\n",
       "<p>5 rows × 138 columns</p>\n",
       "</div>"
      ],
      "text/plain": [
       "   Age  Sex  Height  Weight  QRS_duration  PR_interval  QT_interval  \\\n",
       "0   75    0     190      80            91          193          371   \n",
       "1   56    1     165      64            81          174          401   \n",
       "2   54    0     172      95           138          163          386   \n",
       "3   55    0     175      94           100          202          380   \n",
       "4   75    0     190      80            88          181          360   \n",
       "\n",
       "   T_interval  P_interval  QRS_angle    ...     v5_T_amplitude  v5_QRSA  \\\n",
       "0         174         121        -16    ...                3.9     25.5   \n",
       "1         149          39         25    ...                2.6     21.6   \n",
       "2         185         102         96    ...                3.4     11.5   \n",
       "3         179         143         28    ...                3.0     36.8   \n",
       "4         177         103        -16    ...                2.9     21.7   \n",
       "\n",
       "   v5_QRSTA  v6_JJ_amplitude  v6_R_amplitude  v6_S_amplitude  v6_P_amplitude  \\\n",
       "0      62.9             -0.3             9.0            -0.9             0.9   \n",
       "1      43.4             -0.5             8.5             0.0             0.2   \n",
       "2      48.2              0.9             9.5            -2.4             0.3   \n",
       "3      68.0              0.1            12.2            -2.2             0.4   \n",
       "4      48.9             -0.4            13.1            -3.6            -0.1   \n",
       "\n",
       "   v6_T_amplitude  v6_QRSA  v6_QRSTA  \n",
       "0             2.9     23.3      49.4  \n",
       "1             2.1     20.4      38.8  \n",
       "2             3.4     12.3      49.0  \n",
       "3             2.6     34.6      61.6  \n",
       "4             3.9     25.4      62.8  \n",
       "\n",
       "[5 rows x 138 columns]"
      ]
     },
     "execution_count": 41,
     "metadata": {},
     "output_type": "execute_result"
    }
   ],
   "source": [
    "data1.head()"
   ]
  },
  {
   "cell_type": "code",
   "execution_count": 42,
   "metadata": {},
   "outputs": [],
   "source": [
    "X_train, X_test, y_train, y_test = train_test_split(data1, denemetarg, test_size=0.2,random_state=109) # 80% training and 20% test"
   ]
  },
  {
   "cell_type": "code",
   "execution_count": 43,
   "metadata": {},
   "outputs": [],
   "source": [
    "X_train, X_valid, y_train, y_valid = train_test_split(X_train, y_train, test_size=0.25,random_state=109) # 70% training and 30% test"
   ]
  },
  {
   "cell_type": "code",
   "execution_count": 44,
   "metadata": {},
   "outputs": [
    {
     "data": {
      "text/plain": [
       "((270, 138), (270,), (91, 138), (91,), (91, 138), (91,))"
      ]
     },
     "execution_count": 44,
     "metadata": {},
     "output_type": "execute_result"
    }
   ],
   "source": [
    "X_train.shape,y_train.shape, X_valid.shape, y_valid.shape, X_test.shape,y_test.shape"
   ]
  },
  {
   "cell_type": "code",
   "execution_count": 45,
   "metadata": {},
   "outputs": [],
   "source": [
    "#Import Gaussian Naive Bayes model\n",
    "from sklearn.naive_bayes import GaussianNB, BernoulliNB, MultinomialNB\n",
    "\n",
    "#Create a Gaussian Classifier\n",
    "gnb = GaussianNB()\n",
    "\n",
    "#Train the model using the training sets\n",
    "gnb.fit(X_train, y_train)\n",
    "\n",
    "#Predict the response for test dataset\n",
    "y_pred = gnb.predict(X_test)"
   ]
  },
  {
   "cell_type": "code",
   "execution_count": 46,
   "metadata": {},
   "outputs": [
    {
     "name": "stdout",
     "output_type": "stream",
     "text": [
      "Accuracy: 0.7582417582417582\n",
      "              precision    recall  f1-score   support\n",
      "\n",
      "           0       0.73      0.85      0.78        47\n",
      "           1       0.81      0.66      0.73        44\n",
      "\n",
      "   micro avg       0.76      0.76      0.76        91\n",
      "   macro avg       0.77      0.76      0.75        91\n",
      "weighted avg       0.77      0.76      0.76        91\n",
      "\n",
      "[[40  7]\n",
      " [15 29]]\n"
     ]
    }
   ],
   "source": [
    "\n",
    "print(\"Accuracy:\",metrics.accuracy_score(y_test, y_pred))\n",
    "print(metrics.classification_report(y_test, y_pred))\n",
    "print(metrics.confusion_matrix(y_test, y_pred))"
   ]
  },
  {
   "cell_type": "code",
   "execution_count": 47,
   "metadata": {},
   "outputs": [],
   "source": [
    "y_pred2=gnb.predict(X_valid)"
   ]
  },
  {
   "cell_type": "code",
   "execution_count": 48,
   "metadata": {},
   "outputs": [
    {
     "name": "stdout",
     "output_type": "stream",
     "text": [
      "Accuracy: 0.7472527472527473\n",
      "              precision    recall  f1-score   support\n",
      "\n",
      "           0       0.74      0.84      0.79        51\n",
      "           1       0.76      0.62      0.68        40\n",
      "\n",
      "   micro avg       0.75      0.75      0.75        91\n",
      "   macro avg       0.75      0.73      0.74        91\n",
      "weighted avg       0.75      0.75      0.74        91\n",
      "\n",
      "[[43  8]\n",
      " [15 25]]\n"
     ]
    }
   ],
   "source": [
    "print(\"Accuracy:\",metrics.accuracy_score(y_valid, y_pred2))\n",
    "print(metrics.classification_report(y_valid, y_pred2))\n",
    "print(metrics.confusion_matrix(y_valid, y_pred2))"
   ]
  },
  {
   "cell_type": "markdown",
   "metadata": {},
   "source": [
    "## Bernoulli NB"
   ]
  },
  {
   "cell_type": "code",
   "execution_count": 49,
   "metadata": {},
   "outputs": [],
   "source": [
    "bnb=BernoulliNB()\n",
    "bnb.fit(X_train, y_train)\n",
    "\n",
    "#Predict the response for test dataset\n",
    "y_pred = bnb.predict(X_test)"
   ]
  },
  {
   "cell_type": "code",
   "execution_count": 50,
   "metadata": {},
   "outputs": [
    {
     "name": "stdout",
     "output_type": "stream",
     "text": [
      "Accuracy: 0.7692307692307693\n",
      "              precision    recall  f1-score   support\n",
      "\n",
      "           0       0.72      0.89      0.80        47\n",
      "           1       0.85      0.64      0.73        44\n",
      "\n",
      "   micro avg       0.77      0.77      0.77        91\n",
      "   macro avg       0.79      0.76      0.76        91\n",
      "weighted avg       0.78      0.77      0.76        91\n",
      "\n",
      "[[42  5]\n",
      " [16 28]]\n"
     ]
    }
   ],
   "source": [
    "\n",
    "print(\"Accuracy:\",metrics.accuracy_score(y_test, y_pred))\n",
    "print(metrics.classification_report(y_test, y_pred))\n",
    "print(metrics.confusion_matrix(y_test, y_pred))"
   ]
  },
  {
   "cell_type": "code",
   "execution_count": 51,
   "metadata": {},
   "outputs": [],
   "source": [
    "y_pred2=bnb.predict(X_valid)"
   ]
  },
  {
   "cell_type": "code",
   "execution_count": 52,
   "metadata": {},
   "outputs": [
    {
     "name": "stdout",
     "output_type": "stream",
     "text": [
      "Accuracy: 0.6923076923076923\n",
      "              precision    recall  f1-score   support\n",
      "\n",
      "           0       0.70      0.78      0.74        51\n",
      "           1       0.68      0.57      0.62        40\n",
      "\n",
      "   micro avg       0.69      0.69      0.69        91\n",
      "   macro avg       0.69      0.68      0.68        91\n",
      "weighted avg       0.69      0.69      0.69        91\n",
      "\n",
      "[[40 11]\n",
      " [17 23]]\n"
     ]
    }
   ],
   "source": [
    "print(\"Accuracy:\",metrics.accuracy_score(y_valid, y_pred2))\n",
    "print(metrics.classification_report(y_valid, y_pred2))\n",
    "print(metrics.confusion_matrix(y_valid, y_pred2))"
   ]
  },
  {
   "cell_type": "markdown",
   "metadata": {},
   "source": [
    "## Standard Scaler"
   ]
  },
  {
   "cell_type": "code",
   "execution_count": 133,
   "metadata": {},
   "outputs": [
    {
     "name": "stderr",
     "output_type": "stream",
     "text": [
      "/home/kaya/anaconda3/lib/python3.6/site-packages/sklearn/preprocessing/data.py:645: DataConversionWarning: Data with input dtype int64, float64 were all converted to float64 by StandardScaler.\n",
      "  return self.partial_fit(X, y)\n"
     ]
    }
   ],
   "source": [
    "from sklearn import preprocessing\n",
    "\n",
    "scaler = preprocessing.StandardScaler().fit(data1)"
   ]
  },
  {
   "cell_type": "code",
   "execution_count": 122,
   "metadata": {},
   "outputs": [
    {
     "name": "stderr",
     "output_type": "stream",
     "text": [
      "/home/kaya/.local/lib/python3.6/site-packages/ipykernel_launcher.py:1: DataConversionWarning: Data with input dtype int64, float64 were all converted to float64 by StandardScaler.\n",
      "  \"\"\"Entry point for launching an IPython kernel.\n"
     ]
    }
   ],
   "source": [
    "X_scaled = scaler.transform(data1)"
   ]
  },
  {
   "cell_type": "code",
   "execution_count": 123,
   "metadata": {},
   "outputs": [
    {
     "data": {
      "text/plain": [
       "array([[ 1.73443926, -1.1075202 ,  0.64132669, ...,  1.17773685,\n",
       "         0.29460309,  1.07867028],\n",
       "       [ 0.57931213,  0.90291807, -0.03199781, ...,  0.61612582,\n",
       "         0.0796127 ,  0.50487408],\n",
       "       [ 0.4577198 , -1.1075202 ,  0.15653305, ...,  1.52874375,\n",
       "        -0.52087767,  1.0570176 ],\n",
       "       ...,\n",
       "       [-0.63661117, -1.1075202 , -0.00506483, ..., -0.15608935,\n",
       "        -4.7094834 , -3.3926096 ],\n",
       "       [-0.87979583,  0.90291807, -0.30132761, ...,  0.82672996,\n",
       "         0.42063193,  0.92710147],\n",
       "       [ 1.91682776,  0.90291807, -0.16666271, ...,  0.26511892,\n",
       "         0.14633386,  0.18008377]])"
      ]
     },
     "execution_count": 123,
     "metadata": {},
     "output_type": "execute_result"
    }
   ],
   "source": [
    "X_scaled"
   ]
  },
  {
   "cell_type": "code",
   "execution_count": 124,
   "metadata": {},
   "outputs": [],
   "source": [
    "X_sctrain, X_sctest, y_sctrain, y_sctest = train_test_split(X_scaled, denemetarg, test_size=0.2,random_state=109) # 80% training and 20% test"
   ]
  },
  {
   "cell_type": "code",
   "execution_count": 125,
   "metadata": {},
   "outputs": [],
   "source": [
    "X_sctrain, X_scvalid, y_sctrain, y_scvalid = train_test_split(X_sctrain, y_sctrain, test_size=0.25,random_state=109) # 70% training and 30% test"
   ]
  },
  {
   "cell_type": "code",
   "execution_count": 127,
   "metadata": {},
   "outputs": [],
   "source": [
    "#Train the model using the training sets\n",
    "gnb.fit(X_sctrain, y_sctrain)\n",
    "\n",
    "#Predict the response for test dataset\n",
    "y_scpred = gnb.predict(X_sctest)"
   ]
  },
  {
   "cell_type": "code",
   "execution_count": 128,
   "metadata": {},
   "outputs": [
    {
     "name": "stdout",
     "output_type": "stream",
     "text": [
      "Accuracy: 0.7582417582417582\n",
      "              precision    recall  f1-score   support\n",
      "\n",
      "           0       0.73      0.85      0.78        47\n",
      "           1       0.81      0.66      0.73        44\n",
      "\n",
      "   micro avg       0.76      0.76      0.76        91\n",
      "   macro avg       0.77      0.76      0.75        91\n",
      "weighted avg       0.77      0.76      0.76        91\n",
      "\n",
      "[[40  7]\n",
      " [15 29]]\n"
     ]
    }
   ],
   "source": [
    "\n",
    "print(\"Accuracy:\",metrics.accuracy_score(y_sctest, y_scpred))\n",
    "print(metrics.classification_report(y_sctest, y_scpred))\n",
    "print(metrics.confusion_matrix(y_sctest, y_scpred))"
   ]
  },
  {
   "cell_type": "code",
   "execution_count": 130,
   "metadata": {},
   "outputs": [],
   "source": [
    "y_scpredvalid = gnb.predict(X_scvalid)"
   ]
  },
  {
   "cell_type": "code",
   "execution_count": 131,
   "metadata": {},
   "outputs": [
    {
     "name": "stdout",
     "output_type": "stream",
     "text": [
      "Accuracy: 0.7472527472527473\n",
      "              precision    recall  f1-score   support\n",
      "\n",
      "           0       0.74      0.84      0.79        51\n",
      "           1       0.76      0.62      0.68        40\n",
      "\n",
      "   micro avg       0.75      0.75      0.75        91\n",
      "   macro avg       0.75      0.73      0.74        91\n",
      "weighted avg       0.75      0.75      0.74        91\n",
      "\n",
      "[[43  8]\n",
      " [15 25]]\n"
     ]
    }
   ],
   "source": [
    "\n",
    "print(\"Accuracy:\",metrics.accuracy_score(y_scvalid, y_scpredvalid))\n",
    "print(metrics.classification_report(y_scvalid, y_scpredvalid))\n",
    "print(metrics.confusion_matrix(y_scvalid, y_scpredvalid))"
   ]
  },
  {
   "cell_type": "code",
   "execution_count": null,
   "metadata": {},
   "outputs": [],
   "source": []
  },
  {
   "cell_type": "code",
   "execution_count": null,
   "metadata": {},
   "outputs": [],
   "source": []
  },
  {
   "cell_type": "code",
   "execution_count": null,
   "metadata": {},
   "outputs": [],
   "source": []
  },
  {
   "cell_type": "code",
   "execution_count": 57,
   "metadata": {},
   "outputs": [],
   "source": [
    "#fs.feature_importances"
   ]
  },
  {
   "cell_type": "code",
   "execution_count": null,
   "metadata": {},
   "outputs": [],
   "source": []
  },
  {
   "cell_type": "code",
   "execution_count": 161,
   "metadata": {},
   "outputs": [
    {
     "data": {
      "text/plain": [
       "((452, 4), (452, 134))"
      ]
     },
     "execution_count": 161,
     "metadata": {},
     "output_type": "execute_result"
    }
   ],
   "source": [
    "gereklifeaturelar=data1.iloc[:,0:4]\n",
    "otherdata=data1.iloc[:,4:]\n",
    "gereklifeaturelar.shape,otherdata.shape"
   ]
  },
  {
   "cell_type": "code",
   "execution_count": 451,
   "metadata": {},
   "outputs": [
    {
     "name": "stderr",
     "output_type": "stream",
     "text": [
      "/home/kaya/anaconda3/lib/python3.6/site-packages/sklearn/preprocessing/data.py:645: DataConversionWarning: Data with input dtype int64 were all converted to float64 by StandardScaler.\n",
      "  return self.partial_fit(X, y)\n",
      "/home/kaya/.local/lib/python3.6/site-packages/ipykernel_launcher.py:7: DataConversionWarning: Data with input dtype int64 were all converted to float64 by StandardScaler.\n",
      "  import sys\n"
     ]
    }
   ],
   "source": [
    "import numpy as np\n",
    "from sklearn.decomposition import PCA\n",
    "\n",
    "pca = PCA(n_components=56)\n",
    "m=pca.fit(otherdata.T)\n",
    "scaler = preprocessing.StandardScaler().fit(gereklifeaturelar)\n",
    "gerekliscaled = scaler.transform(gereklifeaturelar)\n",
    "#data2=np.concatenate(gereklifeaturelar,m.components_)\n",
    "\n",
    "digersc=m.components_.T\n",
    "gerekliscaled.shape,digersc.shape\n",
    "data2=np.concatenate((gerekliscaled,digersc),axis=1)"
   ]
  },
  {
   "cell_type": "code",
   "execution_count": 452,
   "metadata": {},
   "outputs": [
    {
     "data": {
      "text/plain": [
       "array([[ 1.73443926e+00, -1.10752020e+00,  6.41326695e-01, ...,\n",
       "        -2.21900802e-02,  9.54008109e-03, -2.66057507e-02],\n",
       "       [ 5.79312129e-01,  9.02918072e-01, -3.19978106e-02, ...,\n",
       "         3.01795585e-02,  4.46520247e-03,  5.26519126e-02],\n",
       "       [ 4.57719799e-01, -1.10752020e+00,  1.56533051e-01, ...,\n",
       "        -2.32563644e-03,  5.86994305e-02, -8.45948511e-02],\n",
       "       ...,\n",
       "       [-6.36611170e-01, -1.10752020e+00, -5.06483035e-03, ...,\n",
       "         7.42753776e-02, -5.56119442e-02, -2.30876236e-01],\n",
       "       [-8.79795829e-01,  9.02918072e-01, -3.01327613e-01, ...,\n",
       "         8.61304364e-03, -2.37780242e-02,  5.46564847e-04],\n",
       "       [ 1.91682776e+00,  9.02918072e-01, -1.66662712e-01, ...,\n",
       "         2.68688723e-02, -6.46741881e-02,  4.56186095e-02]])"
      ]
     },
     "execution_count": 452,
     "metadata": {},
     "output_type": "execute_result"
    }
   ],
   "source": [
    "data2"
   ]
  },
  {
   "cell_type": "code",
   "execution_count": 453,
   "metadata": {},
   "outputs": [],
   "source": [
    "X_train1scaledcomb, X_test1scaledcomb, y_train1scaledcomb, y_test1scaledcomb=train_test_split(data2, denemetarg, test_size=0.2, random_state=1)\n",
    "\n",
    "X_train1scaledcomb, X_val1scaledcomb, y_train1scaledcomb, y_val1scaledcomb= train_test_split(X_train1scaledcomb, y_train1scaledcomb, test_size=0.25, random_state=1)"
   ]
  },
  {
   "cell_type": "code",
   "execution_count": 454,
   "metadata": {},
   "outputs": [],
   "source": [
    "gnb.fit(X_train1scaledcomb, y_train1scaledcomb)\n",
    "\n",
    "#Predict the response for test dataset\n",
    "y_predtestscaledcomb = gnb.predict(X_test1scaledcomb)\n",
    "y_predvalscaledcomb = gnb.predict(X_val1scaledcomb)"
   ]
  },
  {
   "cell_type": "code",
   "execution_count": 455,
   "metadata": {},
   "outputs": [
    {
     "name": "stdout",
     "output_type": "stream",
     "text": [
      "Accuracy: 0.8131868131868132\n",
      "              precision    recall  f1-score   support\n",
      "\n",
      "           0       0.78      0.94      0.85        52\n",
      "           1       0.89      0.64      0.75        39\n",
      "\n",
      "   micro avg       0.81      0.81      0.81        91\n",
      "   macro avg       0.84      0.79      0.80        91\n",
      "weighted avg       0.83      0.81      0.81        91\n",
      "\n",
      "[[49  3]\n",
      " [14 25]]\n",
      "Accuracy: 0.7582417582417582\n",
      "              precision    recall  f1-score   support\n",
      "\n",
      "           0       0.81      0.79      0.80        56\n",
      "           1       0.68      0.71      0.69        35\n",
      "\n",
      "   micro avg       0.76      0.76      0.76        91\n",
      "   macro avg       0.75      0.75      0.75        91\n",
      "weighted avg       0.76      0.76      0.76        91\n",
      "\n",
      "[[44 12]\n",
      " [10 25]]\n"
     ]
    }
   ],
   "source": []
  },
  {
   "cell_type": "code",
   "execution_count": null,
   "metadata": {},
   "outputs": [],
   "source": []
  },
  {
   "cell_type": "code",
   "execution_count": 495,
   "metadata": {},
   "outputs": [
    {
     "name": "stderr",
     "output_type": "stream",
     "text": [
      "/home/kaya/anaconda3/lib/python3.6/site-packages/sklearn/preprocessing/data.py:645: DataConversionWarning: Data with input dtype int64, float64 were all converted to float64 by StandardScaler.\n",
      "  return self.partial_fit(X, y)\n",
      "/home/kaya/anaconda3/lib/python3.6/site-packages/sklearn/base.py:467: DataConversionWarning: Data with input dtype int64, float64 were all converted to float64 by StandardScaler.\n",
      "  return self.fit(X, y, **fit_params).transform(X)\n",
      "/home/kaya/anaconda3/lib/python3.6/site-packages/sklearn/pipeline.py:331: DataConversionWarning: Data with input dtype int64, float64 were all converted to float64 by StandardScaler.\n",
      "  Xt = transform.transform(Xt)\n",
      "/home/kaya/anaconda3/lib/python3.6/site-packages/sklearn/pipeline.py:331: DataConversionWarning: Data with input dtype int64, float64 were all converted to float64 by StandardScaler.\n",
      "  Xt = transform.transform(Xt)\n",
      "/home/kaya/.local/lib/python3.6/site-packages/ipykernel_launcher.py:56: DataConversionWarning: Data with input dtype int64, float64 were all converted to float64 by StandardScaler.\n"
     ]
    },
    {
     "name": "stdout",
     "output_type": "stream",
     "text": [
      "\n",
      "Standardize edilmemiş veriler, test sonucu, PCA feature =56\n",
      "71.43%\n",
      "\n",
      "              precision    recall  f1-score   support\n",
      "\n",
      "           0       0.68      0.83      0.75        47\n",
      "           1       0.76      0.59      0.67        44\n",
      "\n",
      "   micro avg       0.71      0.71      0.71        91\n",
      "   macro avg       0.72      0.71      0.71        91\n",
      "weighted avg       0.72      0.71      0.71        91\n",
      "\n",
      "[[39  8]\n",
      " [18 26]]\n",
      "\n",
      "PStandardize edilmemiş veriler, validation sonucu, PCA feature =56\n",
      "74.73%\n",
      "\n",
      "              precision    recall  f1-score   support\n",
      "\n",
      "           0       0.74      0.84      0.79        51\n",
      "           1       0.76      0.62      0.68        40\n",
      "\n",
      "   micro avg       0.75      0.75      0.75        91\n",
      "   macro avg       0.75      0.73      0.74        91\n",
      "weighted avg       0.75      0.75      0.74        91\n",
      "\n",
      "[[43  8]\n",
      " [15 25]]\n",
      "\n",
      "Standardize edilmiş veriler, test sonucu, PCA feature =56\n",
      "73.63%\n",
      "\n",
      "              precision    recall  f1-score   support\n",
      "\n",
      "           0       0.69      0.87      0.77        47\n",
      "           1       0.81      0.59      0.68        44\n",
      "\n",
      "   micro avg       0.74      0.74      0.74        91\n",
      "   macro avg       0.75      0.73      0.73        91\n",
      "weighted avg       0.75      0.74      0.73        91\n",
      "\n",
      "[[41  6]\n",
      " [18 26]]\n",
      "\n",
      "Standardize edilmiş veriler, validation sonucu, PCA feature =56\n",
      "75.82%\n",
      "\n",
      "              precision    recall  f1-score   support\n",
      "\n",
      "           0       0.74      0.88      0.80        51\n",
      "           1       0.80      0.60      0.69        40\n",
      "\n",
      "   micro avg       0.76      0.76      0.76        91\n",
      "   macro avg       0.77      0.74      0.74        91\n",
      "weighted avg       0.77      0.76      0.75        91\n",
      "\n",
      "[[45  6]\n",
      " [16 24]]\n",
      "\n",
      "İlk dört feature sabit olmak üzere, standardize edilmiş veriler, test sonucu, PCA feature =56\n",
      "Accuracy: 0.8131868131868132\n",
      "              precision    recall  f1-score   support\n",
      "\n",
      "           0       0.78      0.94      0.85        52\n",
      "           1       0.89      0.64      0.75        39\n",
      "\n",
      "   micro avg       0.81      0.81      0.81        91\n",
      "   macro avg       0.84      0.79      0.80        91\n",
      "weighted avg       0.83      0.81      0.81        91\n",
      "\n",
      "[[49  3]\n",
      " [14 25]]\n",
      "\n",
      "İlk dört feature sabit olmak üzere, standardize edilmiş veriler, validation sonucu, PCA feature =56\n",
      "Accuracy: 0.7582417582417582\n",
      "              precision    recall  f1-score   support\n",
      "\n",
      "           0       0.81      0.79      0.80        56\n",
      "           1       0.68      0.71      0.69        35\n",
      "\n",
      "   micro avg       0.76      0.76      0.76        91\n",
      "   macro avg       0.75      0.75      0.75        91\n",
      "weighted avg       0.76      0.76      0.76        91\n",
      "\n",
      "[[44 12]\n",
      " [10 25]]\n"
     ]
    },
    {
     "data": {
      "image/png": "[encoded data removed]",
      "text/plain": [
       "<Figure size 1000x700 with 2 Axes>"
      ]
     },
     "metadata": {},
     "output_type": "display_data"
    }
   ],
   "source": [
    "from sklearn.model_selection import train_test_split\n",
    "from sklearn.preprocessing import StandardScaler\n",
    "from sklearn.decomposition import PCA\n",
    "from sklearn.naive_bayes import GaussianNB\n",
    "from sklearn import metrics\n",
    "import matplotlib.pyplot as plt\n",
    "from sklearn.datasets import load_wine\n",
    "from sklearn.pipeline import make_pipeline\n",
    "\n",
    "FIG_SIZE = (10, 7)\n",
    "feature=56\n",
    "# Fit to data and predict using pipelined GNB and PCA.\n",
    "unscaled_clf = make_pipeline(PCA(n_components=feature), GaussianNB())\n",
    "unscaled_clf.fit(X_train, y_train)\n",
    "pred_test = unscaled_clf.predict(X_test)\n",
    "pred_valid = unscaled_clf.predict(X_valid)\n",
    "\n",
    "# Fit to data and predict using pipelined scaling, GNB and PCA.\n",
    "std_clf = make_pipeline(StandardScaler(), PCA(n_components=feature), GaussianNB())\n",
    "std_clf.fit(X_train, y_train)\n",
    "pred_test_std = std_clf.predict(X_test)\n",
    "pred_valid_std = std_clf.predict(X_valid)\n",
    "\n",
    "# Show prediction accuracies in scaled and unscaled data.\n",
    "print('\\nStandardize edilmemiş veriler, test sonucu, PCA feature =56')\n",
    "print('{:.2%}\\n'.format(metrics.accuracy_score(y_test, pred_test)))\n",
    "print(metrics.classification_report(y_test, pred_test))\n",
    "print(metrics.confusion_matrix(y_test, pred_test))\n",
    "print('\\nPStandardize edilmemiş veriler, validation sonucu, PCA feature =56')\n",
    "print('{:.2%}\\n'.format(metrics.accuracy_score(y_valid, pred_valid)))\n",
    "print(metrics.classification_report(y_valid, pred_valid))\n",
    "print(metrics.confusion_matrix(y_valid, pred_valid))\n",
    "print('\\nStandardize edilmiş veriler, test sonucu, PCA feature =56')\n",
    "print('{:.2%}\\n'.format(metrics.accuracy_score(y_test, pred_test_std)))\n",
    "print(metrics.classification_report(y_test, pred_test_std))\n",
    "print(metrics.confusion_matrix(y_test, pred_test_std))\n",
    "print('\\nStandardize edilmiş veriler, validation sonucu, PCA feature =56')\n",
    "print('{:.2%}\\n'.format(metrics.accuracy_score(y_valid, pred_valid_std)))\n",
    "print(metrics.classification_report(y_valid, pred_valid_std))\n",
    "print(metrics.confusion_matrix(y_valid, pred_valid_std))\n",
    "      \n",
    "# Model Accuracy, how often is the classifier correct?\n",
    "print('\\nİlk dört feature sabit olmak üzere, standardize edilmiş veriler, test sonucu, PCA feature =56')\n",
    "print(\"Accuracy:\",metrics.accuracy_score(y_test1scaledcomb, y_predtestscaledcomb))\n",
    "print(metrics.classification_report(y_test1scaledcomb, y_predtestscaledcomb))\n",
    "print(metrics.confusion_matrix(y_test1scaledcomb, y_predtestscaledcomb))\n",
    "\n",
    "print('\\nİlk dört feature sabit olmak üzere, standardize edilmiş veriler, validation sonucu, PCA feature =56')\n",
    "print(\"Accuracy:\",metrics.accuracy_score(y_val1scaledcomb, y_predvalscaledcomb))\n",
    "print(metrics.classification_report(y_val1scaledcomb, y_predvalscaledcomb))\n",
    "print(metrics.confusion_matrix(y_val1scaledcomb, y_predvalscaledcomb))\n",
    "\n",
    "# Use PCA without and with scale on X_train data for visualization.\n",
    "X_train_transformed = pca.transform(X_train)\n",
    "scaler = std_clf.named_steps['standardscaler']\n",
    "X_train_std_transformed = pca_std.transform(scaler.transform(X_train))\n",
    "\n",
    "# visualize standardized vs. untouched dataset with PCA performed\n",
    "fig, (ax1, ax2) = plt.subplots(ncols=2, figsize=FIG_SIZE)\n",
    "\n",
    "\n",
    "for l, c, m in zip(range(0, 2), ('blue', 'red', 'green'), ('^', 's', 'o')):\n",
    "    ax1.scatter(X_train_transformed[y_train == l, 0],\n",
    "                X_train_transformed[y_train == l, 1],\n",
    "                color=c,\n",
    "                label='Arrhythmia %s' % l,\n",
    "                alpha=0.5,\n",
    "                marker=m\n",
    "                )\n",
    "\n",
    "for l, c, m in zip(range(0, 2), ('blue', 'red', 'green'), ('^', 's', 'o')):\n",
    "    ax2.scatter(X_train_std_transformed[y_train == l, 0],\n",
    "                X_train_std_transformed[y_train == l, 1],\n",
    "                color=c,\n",
    "                label='Arrhythmia %s' % l,\n",
    "                alpha=0.5,\n",
    "                marker=m\n",
    "                )\n",
    "\n",
    "ax1.set_title('PCA sonrası standardize edilmemiş training dataset')\n",
    "ax2.set_title('PCA sonrası standardize edilmiş training dataset')\n",
    "\n",
    "for ax in (ax1, ax2):\n",
    "    ax.set_xlabel('1st principal component')\n",
    "    ax.set_ylabel('2nd principal component')\n",
    "    ax.legend(loc='upper right')\n",
    "    ax.grid()\n",
    "\n",
    "plt.tight_layout()\n",
    "\n",
    "plt.show()"
   ]
  }
 ],
 "metadata": {
  "kernelspec": {
   "display_name": "Python 3",
   "language": "python",
   "name": "python3"
  },
  "language_info": {
   "codemirror_mode": {
    "name": "ipython",
    "version": 3
   },
   "file_extension": ".py",
   "mimetype": "text/x-python",
   "name": "python",
   "nbconvert_exporter": "python",
   "pygments_lexer": "ipython3",
   "version": "3.6.8"
  }
 },
 "nbformat": 4,
 "nbformat_minor": 2
}
